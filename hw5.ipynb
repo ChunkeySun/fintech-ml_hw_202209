{
 "cells": [
  {
   "cell_type": "markdown",
   "id": "c5d1438a",
   "metadata": {},
   "source": [
    "## Logistic Regression\n",
    "### Question 1\n",
    "載入所需套件"
   ]
  },
  {
   "cell_type": "code",
   "execution_count": 1,
   "id": "08547b04",
   "metadata": {},
   "outputs": [],
   "source": [
    "import math\n",
    "import numpy as np\n",
    "from scipy.stats import bernoulli\n",
    "import matplotlib.pyplot as plt\n",
    "from sklearn.linear_model import LogisticRegression"
   ]
  },
  {
   "cell_type": "markdown",
   "id": "90d974f6",
   "metadata": {},
   "source": [
    "1. 生成10個符合Uniform(1,2)分配的x數值"
   ]
  },
  {
   "cell_type": "code",
   "execution_count": 99,
   "id": "be1982f9",
   "metadata": {},
   "outputs": [],
   "source": [
    "n_first = np.random.uniform(low = 1, high = 2, size = 10)"
   ]
  },
  {
   "cell_type": "code",
   "execution_count": 100,
   "id": "ccacfc90",
   "metadata": {},
   "outputs": [
    {
     "name": "stdout",
     "output_type": "stream",
     "text": [
      "[1.11089126 1.069331   1.85045266 1.0922143  1.3470621  1.84220714\n",
      " 1.67696955 1.72057121 1.93830925 1.0067677 ]\n"
     ]
    }
   ],
   "source": [
    "print(n_first)"
   ]
  },
  {
   "cell_type": "markdown",
   "id": "454438d0",
   "metadata": {},
   "source": [
    "代入sigmoid function獲得各自的值"
   ]
  },
  {
   "cell_type": "code",
   "execution_count": 130,
   "id": "b8eb0127",
   "metadata": {},
   "outputs": [],
   "source": [
    "y_first = 1/(1 + np.exp(-(3-2*n_first)))"
   ]
  },
  {
   "cell_type": "code",
   "execution_count": 131,
   "id": "4c283b3f",
   "metadata": {},
   "outputs": [
    {
     "data": {
      "text/plain": [
       "array([0.68529581, 0.70294013, 0.33161154, 0.69329546, 0.57587828,\n",
       "       0.33527679, 0.41242753, 0.39146879, 0.293879  , 0.72838905])"
      ]
     },
     "execution_count": 131,
     "metadata": {},
     "output_type": "execute_result"
    }
   ],
   "source": [
    "y_first"
   ]
  },
  {
   "cell_type": "markdown",
   "id": "88bd4919",
   "metadata": {},
   "source": [
    "並經由binomial分配獲得各自的y值"
   ]
  },
  {
   "cell_type": "code",
   "execution_count": 132,
   "id": "919da7a3",
   "metadata": {},
   "outputs": [],
   "source": [
    "y_first = np.random.binomial(n = 1,p=y_first, size=None)"
   ]
  },
  {
   "cell_type": "code",
   "execution_count": 133,
   "id": "889b06aa",
   "metadata": {},
   "outputs": [
    {
     "name": "stdout",
     "output_type": "stream",
     "text": [
      "[0 1 1 1 1 0 0 0 1 1]\n"
     ]
    }
   ],
   "source": [
    "print(y_first)"
   ]
  },
  {
   "cell_type": "markdown",
   "id": "86366a04",
   "metadata": {},
   "source": [
    "2.  獲得上述資料x,y之散佈圖"
   ]
  },
  {
   "cell_type": "code",
   "execution_count": 104,
   "id": "2874b6c7",
   "metadata": {},
   "outputs": [
    {
     "data": {
      "text/plain": [
       "<matplotlib.collections.PathCollection at 0x28b74e5f880>"
      ]
     },
     "execution_count": 104,
     "metadata": {},
     "output_type": "execute_result"
    },
    {
     "data": {
      "image/png": "[encoded data removed]",
      "text/plain": [
       "<Figure size 640x480 with 1 Axes>"
      ]
     },
     "metadata": {},
     "output_type": "display_data"
    }
   ],
   "source": [
    "plt.scatter(n_first, y_first, c =\"blue\")"
   ]
  },
  {
   "cell_type": "markdown",
   "id": "b353b2f7",
   "metadata": {},
   "source": [
    "3.  代入sklearn的LogisticRegression套件獲得logistic regression估計之coef與intercept值，分別為-0.3748與0.9566"
   ]
  },
  {
   "cell_type": "code",
   "execution_count": 134,
   "id": "1d21a64e",
   "metadata": {},
   "outputs": [],
   "source": [
    "clf_first = LogisticRegression(random_state=0).fit(n_first.reshape(-1, 1), y_first)"
   ]
  },
  {
   "cell_type": "code",
   "execution_count": 135,
   "id": "ca7ce959",
   "metadata": {},
   "outputs": [
    {
     "name": "stdout",
     "output_type": "stream",
     "text": [
      "[[-0.37481998]]\n",
      "[0.95658084]\n"
     ]
    }
   ],
   "source": [
    "print(clf_first.coef_)\n",
    "print(clf_first.intercept_)"
   ]
  },
  {
   "cell_type": "markdown",
   "id": "b5dd36f0",
   "metadata": {},
   "source": [
    "## Question 2\n",
    "將n設為1000，重複前面相同步驟獲得估計之coef與intercept值，分別為-1.841與2.854"
   ]
  },
  {
   "cell_type": "code",
   "execution_count": 136,
   "id": "9ad630ef",
   "metadata": {},
   "outputs": [
    {
     "name": "stdout",
     "output_type": "stream",
     "text": [
      "[0 1 1 0 0 0 1 1 1 0 1 0 1 0 0 0 0 0 0 1 1 1 1 1 1 0 1 0 1 1 1 0 1 0 0 0 0\n",
      " 0 0 0 0 1 0 0 0 1 1 0 1 1 0 1 1 0 1 0 1 1 0 0 0 1 0 1 1 1 0 1 1 0 0 1 1 1\n",
      " 0 0 1 1 1 0 1 1 0 1 1 0 1 1 1 1 1 1 1 0 1 0 0 1 1 1 1 0 1 1 0 0 0 1 1 1 0\n",
      " 1 0 1 0 1 1 0 1 1 0 1 0 1 0 1 1 1 0 1 1 1 0 1 0 0 1 1 1 0 0 1 0 0 0 1 0 0\n",
      " 0 0 0 1 0 0 1 1 1 1 0 1 1 0 0 1 1 0 1 0 1 0 0 1 0 1 1 0 0 0 1 0 1 0 0 1 1\n",
      " 0 1 0 1 1 0 1 1 1 1 1 1 1 1 1 0 1 0 0 0 1 1 0 0 0 1 1 0 1 0 1 1 0 0 1 0 0\n",
      " 1 0 1 0 0 1 1 1 1 1 0 0 1 0 0 1 1 1 1 1 1 0 0 1 1 0 0 0 0 0 0 0 0 0 0 1 1\n",
      " 1 1 1 0 0 1 1 0 1 0 0 1 1 1 0 0 0 1 0 1 1 0 1 0 1 0 1 1 1 0 1 0 1 1 1 0 0\n",
      " 1 1 0 1 0 0 0 0 1 1 1 0 0 0 1 0 1 0 1 1 0 0 0 0 1 0 0 1 1 0 1 0 0 1 1 0 0\n",
      " 0 1 1 0 1 1 0 1 1 0 1 0 0 1 0 0 1 1 0 0 0 1 0 0 0 1 1 1 0 0 1 1 1 1 0 1 1\n",
      " 1 0 1 0 1 0 1 1 0 0 1 1 1 1 0 0 0 0 1 1 1 0 1 0 0 0 0 0 0 1 1 1 1 1 0 1 0\n",
      " 0 1 1 1 0 1 1 1 1 1 0 1 0 0 0 0 1 0 1 1 1 1 0 0 0 1 1 0 0 1 0 0 1 0 0 0 1\n",
      " 0 1 0 1 1 1 0 0 0 0 0 0 0 1 0 1 1 0 1 0 1 1 0 0 1 1 1 0 1 1 1 1 1 0 1 1 1\n",
      " 0 0 1 1 0 1 0 1 0 1 1 0 0 0 0 0 1 1 1 1 1 0 0 1 1 1 0 1 1 0 0 1 1 0 1 0 0\n",
      " 1 1 1 1 1 0 0 1 0 0 0 1 1 1 1 1 1 0 1 1 1 0 1 0 0 0 1 1 1 0 0 1 1 1 0 0 0\n",
      " 0 0 0 0 0 0 1 0 1 1 0 1 0 0 0 1 0 0 0 1 1 1 1 0 0 1 0 1 0 0 1 1 1 0 0 0 0\n",
      " 1 0 0 0 0 1 0 0 1 1 1 0 1 0 1 1 0 0 1 0 1 0 0 0 1 1 0 1 1 1 1 0 1 0 1 1 0\n",
      " 1 0 1 0 0 1 1 0 0 1 0 0 0 1 0 1 1 1 1 0 1 0 0 0 1 1 1 1 1 0 0 1 0 1 0 1 0\n",
      " 0 1 1 1 1 1 0 0 0 1 0 0 1 1 0 1 1 1 0 1 0 1 0 0 1 0 0 0 1 1 1 0 1 1 1 1 1\n",
      " 1 0 1 0 1 1 0 1 0 1 0 0 1 0 0 1 0 0 1 0 0 1 0 1 1 0 1 1 1 0 0 0 0 1 1 0 1\n",
      " 1 0 1 1 1 1 0 0 0 1 0 1 1 0 0 0 1 0 1 0 0 1 1 0 1 0 1 1 0 1 0 1 0 1 1 1 0\n",
      " 1 0 0 1 1 1 0 0 1 1 1 0 0 1 1 1 0 0 0 1 1 0 0 1 1 0 1 1 1 0 1 0 0 1 1 1 0\n",
      " 0 1 0 1 0 1 1 1 0 1 0 1 1 1 0 1 1 1 1 1 1 1 1 0 0 1 0 0 1 1 1 1 0 1 1 1 1\n",
      " 0 1 0 0 1 1 0 0 0 0 1 0 0 1 1 0 0 0 0 1 1 1 1 0 1 0 0 1 1 0 1 0 1 0 0 0 1\n",
      " 0 1 0 1 1 0 0 1 0 0 0 0 0 1 0 1 0 0 0 0 1 0 1 0 1 0 0 1 0 1 1 1 0 1 1 1 0\n",
      " 1 0 0 0 0 1 1 0 1 0 0 1 1 1 1 1 0 0 0 0 1 1 1 0 0 1 0 0 0 1 1 1 1 1 1 1 0\n",
      " 1 1 1 1 1 1 1 0 0 1 1 1 0 1 0 1 1 0 0 1 0 0 1 0 1 1 0 1 0 1 0 1 1 0 0 0 1\n",
      " 1]\n"
     ]
    }
   ],
   "source": [
    "n_second = np.random.uniform(low = 1, high = 2, size = 1000)\n",
    "y_second = 1/(1 + np.exp(-(3-2*n_second)))\n",
    "y_second = np.random.binomial(n = 1,p=y_second, size=None)\n",
    "print(y_second) "
   ]
  },
  {
   "cell_type": "code",
   "execution_count": 137,
   "id": "577414ae",
   "metadata": {},
   "outputs": [],
   "source": [
    "clf_second = LogisticRegression(random_state=0).fit(n_second.reshape(-1, 1), y_second)"
   ]
  },
  {
   "cell_type": "code",
   "execution_count": 138,
   "id": "d6139154",
   "metadata": {},
   "outputs": [
    {
     "name": "stdout",
     "output_type": "stream",
     "text": [
      "[[-1.84117515]]\n",
      "[2.85445687]\n"
     ]
    }
   ],
   "source": [
    "print(clf_second.coef_)\n",
    "print(clf_second.intercept_)"
   ]
  },
  {
   "cell_type": "markdown",
   "id": "98b25a4a",
   "metadata": {},
   "source": [
    "將n設為100000，重複前面相同步驟獲得估計之coef與intercept值，分別為-1.996與2.991，可發現數字趨近於原先母體之coef與intercept值"
   ]
  },
  {
   "cell_type": "code",
   "execution_count": 139,
   "id": "ef90cd10",
   "metadata": {},
   "outputs": [],
   "source": [
    "n_third = np.random.uniform(low = 1, high = 2, size = 100000)"
   ]
  },
  {
   "cell_type": "code",
   "execution_count": 141,
   "id": "bb0afa1f",
   "metadata": {},
   "outputs": [
    {
     "name": "stdout",
     "output_type": "stream",
     "text": [
      "[1 0 1 ... 0 0 1]\n"
     ]
    }
   ],
   "source": [
    "y_third = 1/(1 + np.exp(-(3-2*n_third)))\n",
    "y_third = np.random.binomial(n = 1,p=y_third, size=None)\n",
    "print(y_third) "
   ]
  },
  {
   "cell_type": "code",
   "execution_count": 112,
   "id": "52022cb1",
   "metadata": {},
   "outputs": [
    {
     "data": {
      "text/plain": [
       "<matplotlib.collections.PathCollection at 0x28b761ddd90>"
      ]
     },
     "execution_count": 112,
     "metadata": {},
     "output_type": "execute_result"
    },
    {
     "data": {
      "image/png": "[encoded data removed]",
      "text/plain": [
       "<Figure size 640x480 with 1 Axes>"
      ]
     },
     "metadata": {},
     "output_type": "display_data"
    }
   ],
   "source": [
    "plt.scatter(n_third, y_third, c =\"blue\")"
   ]
  },
  {
   "cell_type": "code",
   "execution_count": 142,
   "id": "696789a4",
   "metadata": {},
   "outputs": [],
   "source": [
    "clf_third = LogisticRegression(random_state=0).fit(n_third.reshape(-1, 1), y_third)"
   ]
  },
  {
   "cell_type": "code",
   "execution_count": 143,
   "id": "cb19da41",
   "metadata": {},
   "outputs": [
    {
     "name": "stdout",
     "output_type": "stream",
     "text": [
      "[[-1.99631318]]\n",
      "[2.9911564]\n"
     ]
    }
   ],
   "source": [
    "print(clf_third.coef_)\n",
    "print(clf_third.intercept_)"
   ]
  },
  {
   "cell_type": "code",
   "execution_count": null,
   "id": "cac71fd0",
   "metadata": {},
   "outputs": [],
   "source": []
  }
 ],
 "metadata": {
  "kernelspec": {
   "display_name": "Python 3 (ipykernel)",
   "language": "python",
   "name": "python3"
  },
  "language_info": {
   "codemirror_mode": {
    "name": "ipython",
    "version": 3
   },
   "file_extension": ".py",
   "mimetype": "text/x-python",
   "name": "python",
   "nbconvert_exporter": "python",
   "pygments_lexer": "ipython3",
   "version": "3.8.12"
  }
 },
 "nbformat": 4,
 "nbformat_minor": 5
}
