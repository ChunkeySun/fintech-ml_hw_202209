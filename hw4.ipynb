{
 "cells": [
  {
   "cell_type": "code",
   "execution_count": 205,
   "id": "a9aae400",
   "metadata": {},
   "outputs": [],
   "source": [
    "import numpy as np\n",
    "import matplotlib.pyplot as plt\n",
    "from sklearn.linear_model import LinearRegression\n",
    "import scipy.stats"
   ]
  },
  {
   "cell_type": "markdown",
   "id": "df438fbb",
   "metadata": {},
   "source": [
    "## Confidence Interval(CI)\n",
    "### Question 1\n",
    "1. 生成50個~uniform(-3,3)分配之x值"
   ]
  },
  {
   "cell_type": "code",
   "execution_count": 224,
   "id": "24ca2699",
   "metadata": {},
   "outputs": [
    {
     "name": "stdout",
     "output_type": "stream",
     "text": [
      "[-2.68230878  1.46545518  0.87406327 -2.22016016 -2.47270294  0.84720291\n",
      " -2.69326056 -1.66670474 -0.1389475   2.18737585 -2.94384321 -0.12032074\n",
      " -0.98693283 -2.36935306 -0.15889582 -2.18368322  2.53011792  1.20016744\n",
      "  0.5471457  -1.36721657 -1.72592021 -1.82515727  1.58474253 -1.30373738\n",
      " -2.7645273  -0.49034573  2.17026879  0.26278934 -1.02645807  0.10754544\n",
      "  0.28213222 -1.46367311  1.32955917  2.59622425  1.42425984  1.95582698\n",
      " -1.95081465 -0.16469802  0.9325109  -1.43998192  1.23272889 -1.56593218\n",
      " -1.65466514 -0.14965271  1.01564257 -1.12087377 -0.79059087 -2.53475851\n",
      " -2.03362977  2.01777962]\n"
     ]
    }
   ],
   "source": [
    "x = np.random.uniform(low = -3, high = 3, size = 50)\n",
    "print(x)"
   ]
  },
  {
   "cell_type": "markdown",
   "id": "8dd10f60",
   "metadata": {},
   "source": [
    "2.從y= 3-2*x+e 迴歸式生成50組y值"
   ]
  },
  {
   "cell_type": "code",
   "execution_count": 225,
   "id": "e49bdd56",
   "metadata": {},
   "outputs": [
    {
     "name": "stdout",
     "output_type": "stream",
     "text": [
      "[ 8.36461756  0.06908964  1.25187346  7.44032032  7.94540589  1.30559418\n",
      "  8.38652113  6.33340949  3.277895   -1.37475171  8.88768642  3.24064148\n",
      "  4.97386566  7.73870613  3.31779165  7.36736645 -2.06023583  0.59966512\n",
      "  1.9057086   5.73443314  6.45184042  6.65031454 -0.16948505  5.60747476\n",
      "  8.52905461  3.98069146 -1.34053758  2.47442131  5.05291614  2.78490913\n",
      "  2.43573556  5.92734622  0.34088167 -2.19244849  0.15148032 -0.91165395\n",
      "  6.90162931  3.32939603  1.13497819  5.87996384  0.53454222  6.13186436\n",
      "  6.30933028  3.29930541  0.96871485  5.24174754  4.58118175  8.06951701\n",
      "  7.06725954 -1.03555924]\n"
     ]
    }
   ],
   "source": [
    "y= 3-2*x\n",
    "print(y)"
   ]
  },
  {
   "cell_type": "code",
   "execution_count": 226,
   "id": "55df733a",
   "metadata": {},
   "outputs": [
    {
     "name": "stdout",
     "output_type": "stream",
     "text": [
      "[[-0.53609449  0.16963914  0.22266744 -0.68232848 -0.83496767 -0.91471958\n",
      "   0.72371098  0.60993218  1.89483124  0.27241684  1.37516461  0.76126877\n",
      "  -1.2890321  -1.17960936  0.49725727 -0.30766293  0.90309855 -0.72551947\n",
      "   0.19645749  1.25097182  0.21532224 -0.01769818  0.18535901 -0.40563172\n",
      "   0.27711702 -0.60431873 -0.95580161  1.7145986  -1.12378727  0.5987301\n",
      "  -0.15094147 -1.21102459  1.16510987  0.6700304  -0.07406366  0.4361907\n",
      "   0.75065822 -1.44761376 -0.19844219  1.12521675  0.87731649  0.04326622\n",
      "   0.75693269  0.30877882 -0.38417818 -1.11142907  1.21618525  0.25905978\n",
      "  -1.91315372  0.95482271]]\n"
     ]
    }
   ],
   "source": [
    "residual = np.random.normal(0, 1, size = (1, 50))\n",
    "print(residual)"
   ]
  },
  {
   "cell_type": "code",
   "execution_count": 227,
   "id": "8482f727",
   "metadata": {},
   "outputs": [],
   "source": [
    "y = np.add(y, residual)"
   ]
  },
  {
   "cell_type": "code",
   "execution_count": 228,
   "id": "e6dc3e5f",
   "metadata": {},
   "outputs": [
    {
     "data": {
      "text/plain": [
       "array([[ 7.82852308,  0.23872878,  1.4745409 ,  6.75799183,  7.11043822,\n",
       "         0.3908746 ,  9.1102321 ,  6.94334166,  5.17272624, -1.10233487,\n",
       "        10.26285103,  4.00191025,  3.68483356,  6.55909677,  3.81504891,\n",
       "         7.05970351, -1.15713728, -0.12585435,  2.1021661 ,  6.98540496,\n",
       "         6.66716266,  6.63261635,  0.01587396,  5.20184304,  8.80617163,\n",
       "         3.37637273, -2.29633919,  4.18901991,  3.92912887,  3.38363923,\n",
       "         2.2847941 ,  4.71632163,  1.50599153, -1.52241809,  0.07741666,\n",
       "        -0.47546325,  7.65228753,  1.88178228,  0.936536  ,  7.0051806 ,\n",
       "         1.41185871,  6.17513058,  7.06626297,  3.60808424,  0.58453667,\n",
       "         4.13031847,  5.797367  ,  8.32857679,  5.15410582, -0.08073653]])"
      ]
     },
     "execution_count": 228,
     "metadata": {},
     "output_type": "execute_result"
    }
   ],
   "source": [
    "y"
   ]
  },
  {
   "cell_type": "markdown",
   "id": "e86daa35",
   "metadata": {},
   "source": [
    "3.繪製出代表x、y值的散佈圖"
   ]
  },
  {
   "cell_type": "code",
   "execution_count": 229,
   "id": "c901948b",
   "metadata": {},
   "outputs": [
    {
     "data": {
      "image/png": "[encoded data removed]",
      "text/plain": [
       "<Figure size 640x480 with 1 Axes>"
      ]
     },
     "metadata": {},
     "output_type": "display_data"
    }
   ],
   "source": [
    "plt.scatter(x, y, c =\"blue\")\n",
    "\n",
    "plt.show()"
   ]
  },
  {
   "cell_type": "code",
   "execution_count": 230,
   "id": "f911843e",
   "metadata": {},
   "outputs": [],
   "source": [
    "def interval(y, x, n=50):\n",
    "    x_mean = np.mean(x)\n",
    "    y_mean = np.mean(y)\n",
    "    sxx = np.sum((x - x_mean)**2)\n",
    "    sxy = np.sum((x - x_mean)*(y - y_mean))\n",
    "    coef = sxy/sxx\n",
    "    intercept = y_mean - coef * x_mean\n",
    "    sse = np.sum((y - (intercept + coef * x))**2)\n",
    "    mse = sse / (n-2)\n",
    "    lower_bound = coef - (mse/sxx)**0.5 * scipy.stats.t.ppf(q=.95,df=n-2)\n",
    "    upper_bound = coef + (mse/sxx)**0.5 * scipy.stats.t.ppf(q=.95,df=n-2)\n",
    "    return lower_bound,upper_bound"
   ]
  },
  {
   "cell_type": "code",
   "execution_count": 231,
   "id": "67c021a4",
   "metadata": {},
   "outputs": [
    {
     "name": "stdout",
     "output_type": "stream",
     "text": [
      "-1.9146164549975262\n"
     ]
    }
   ],
   "source": [
    "x_mean = np.mean(x)\n",
    "y_mean = np.mean(y)\n",
    "sxx = np.sum((x - x_mean)**2)\n",
    "sxy = np.sum((x - x_mean)*(y - y_mean))\n",
    "coef = sxy/sxx\n",
    "print(coef)"
   ]
  },
  {
   "cell_type": "markdown",
   "id": "4ea2866a",
   "metadata": {},
   "source": [
    "4-5.前面有設定一函數，可自動計算confidence interval數值，可見beta1_hat=-1.9146，ci=[-2.043,-1.786]，有包含beta1真實值-2"
   ]
  },
  {
   "cell_type": "code",
   "execution_count": 232,
   "id": "8a06106a",
   "metadata": {},
   "outputs": [
    {
     "data": {
      "text/plain": [
       "(-2.043155206654044, -1.7860777033410082)"
      ]
     },
     "execution_count": 232,
     "metadata": {},
     "output_type": "execute_result"
    }
   ],
   "source": [
    "interval(y, x)"
   ]
  },
  {
   "cell_type": "markdown",
   "id": "8cfa5d08",
   "metadata": {},
   "source": [
    "## Question2\n",
    "D_bar數值如下所示:\n",
    "\n",
    "m=10"
   ]
  },
  {
   "cell_type": "code",
   "execution_count": 214,
   "id": "cffb24f1",
   "metadata": {},
   "outputs": [
    {
     "name": "stdout",
     "output_type": "stream",
     "text": [
      "0.9\n"
     ]
    }
   ],
   "source": [
    "D = 0\n",
    "for i in range(10):\n",
    "    x = np.random.uniform(low = -3, high = 3, size = 50)\n",
    "    y = 3-2*x\n",
    "    residual = np.random.normal(0, 1, size = (1, 50))\n",
    "    y = np.add(y, residual)\n",
    "    interval(y, x)\n",
    "    if (interval(y, x)[0] <= -2) & (interval(y, x)[1] >= -2):\n",
    "        D = D+1\n",
    "print(D/10)"
   ]
  },
  {
   "cell_type": "markdown",
   "id": "a15793aa",
   "metadata": {},
   "source": [
    "m=100"
   ]
  },
  {
   "cell_type": "code",
   "execution_count": 215,
   "id": "729baa57",
   "metadata": {},
   "outputs": [
    {
     "name": "stdout",
     "output_type": "stream",
     "text": [
      "0.88\n"
     ]
    }
   ],
   "source": [
    "D = 0\n",
    "for i in range(100):\n",
    "    x = np.random.uniform(low = -3, high = 3, size = 50)\n",
    "    y = 3-2*x\n",
    "    residual = np.random.normal(0, 1, size = (1, 50))\n",
    "    y = np.add(y, residual)\n",
    "    interval(y, x)\n",
    "    if (interval(y, x)[0] <= -2) & (interval(y, x)[1] >= -2):\n",
    "        D = D+1\n",
    "print(D/100)"
   ]
  },
  {
   "cell_type": "markdown",
   "id": "4ca9ac12",
   "metadata": {},
   "source": [
    "m=100000"
   ]
  },
  {
   "cell_type": "code",
   "execution_count": 216,
   "id": "ce991bcb",
   "metadata": {},
   "outputs": [
    {
     "name": "stdout",
     "output_type": "stream",
     "text": [
      "0.89878\n"
     ]
    }
   ],
   "source": [
    "D = 0\n",
    "for i in range(100000):\n",
    "    x = np.random.uniform(low = -3, high = 3, size = 50)\n",
    "    y = 3-2*x\n",
    "    residual = np.random.normal(0, 1, size = (1, 50))\n",
    "    y = np.add(y, residual)\n",
    "    interval(y, x)\n",
    "    if (interval(y, x)[0] <= -2) & (interval(y, x)[1] >= -2):\n",
    "        D = D+1\n",
    "print(D/100000)"
   ]
  },
  {
   "cell_type": "markdown",
   "id": "4a146114",
   "metadata": {},
   "source": [
    "## Hypothesis Test\n",
    "### Question1\n",
    "基本上1、2、3題做法與Confidence Interval Question1 前三題作法是相同的"
   ]
  },
  {
   "cell_type": "code",
   "execution_count": 217,
   "id": "5590f3d5",
   "metadata": {},
   "outputs": [],
   "source": [
    "x = np.random.uniform(low = -3, high = 3, size = 50)\n",
    "y = 3-2*x\n",
    "residual = np.random.normal(0, 1, size = (1, 50))\n",
    "y = np.add(y, residual)"
   ]
  },
  {
   "cell_type": "markdown",
   "id": "99a7fe2f",
   "metadata": {},
   "source": [
    "4.test statistic & sampling distribution: $$ \\frac{\\hat\\beta_{1}-(-2)}{\\sqrt\\frac{SSE}{N-2}}\\sim{T(N-2)} $$\n",
    "下面創一個函數紀錄realized test statistic數值:0.3109"
   ]
  },
  {
   "cell_type": "code",
   "execution_count": 218,
   "id": "3b24d97f",
   "metadata": {},
   "outputs": [],
   "source": [
    "def t_value(y, x, n=50):\n",
    "    x_mean = np.mean(x)\n",
    "    y_mean = np.mean(y)\n",
    "    sxx = np.sum((x - x_mean)**2)\n",
    "    sxy = np.sum((x - x_mean)*(y - y_mean))\n",
    "    coef = sxy/sxx\n",
    "    intercept = y_mean - coef * x_mean\n",
    "    sse = np.sum((y - (intercept + coef * x))**2)\n",
    "    mse = sse / (n-2)\n",
    "    t =  (coef+2) / (mse/sxx)**0.5\n",
    "    return t"
   ]
  },
  {
   "cell_type": "code",
   "execution_count": 219,
   "id": "816336ff",
   "metadata": {},
   "outputs": [
    {
     "data": {
      "text/plain": [
       "0.31086771204051616"
      ]
     },
     "execution_count": 219,
     "metadata": {},
     "output_type": "execute_result"
    }
   ],
   "source": [
    "t_value(y, x)"
   ]
  },
  {
   "cell_type": "markdown",
   "id": "50598ef2",
   "metadata": {},
   "source": [
    "5."
   ]
  },
  {
   "cell_type": "code",
   "execution_count": 220,
   "id": "1778fb80",
   "metadata": {},
   "outputs": [
    {
     "name": "stdout",
     "output_type": "stream",
     "text": [
      "Do not reject H0\n"
     ]
    }
   ],
   "source": [
    "if (t_value(y, x) < -scipy.stats.t.ppf(q=.95,df=48)) | (t_value(y, x) > scipy.stats.t.ppf(q=.95,df=48)):\n",
    "    print(\"reject H0\")\n",
    "else:\n",
    "    print(\"Do not reject H0\")"
   ]
  },
  {
   "cell_type": "markdown",
   "id": "3df89552",
   "metadata": {},
   "source": [
    "### Question3\n",
    "D_bar數值如下所示:\n",
    "\n",
    "m=10"
   ]
  },
  {
   "cell_type": "code",
   "execution_count": 221,
   "id": "dd092e8f",
   "metadata": {},
   "outputs": [
    {
     "name": "stdout",
     "output_type": "stream",
     "text": [
      "0.0\n"
     ]
    }
   ],
   "source": [
    "D = 0\n",
    "for i in range(10):\n",
    "    x = np.random.uniform(low = -3, high = 3, size = 50)\n",
    "    y = 3-2*x\n",
    "    residual = np.random.normal(0, 1, size = (1, 50))\n",
    "    y = np.add(y, residual)\n",
    "    if (t_value(y, x) < -scipy.stats.t.ppf(q=.95,df=48)) | (t_value(y, x) > scipy.stats.t.ppf(q=.95,df=48)):\n",
    "        D = D+1\n",
    "print(D/10)"
   ]
  },
  {
   "cell_type": "markdown",
   "id": "f98d8141",
   "metadata": {},
   "source": [
    "m=1000"
   ]
  },
  {
   "cell_type": "code",
   "execution_count": 222,
   "id": "2bf396a0",
   "metadata": {},
   "outputs": [
    {
     "name": "stdout",
     "output_type": "stream",
     "text": [
      "0.12\n"
     ]
    }
   ],
   "source": [
    "D = 0\n",
    "for i in range(100):\n",
    "    x = np.random.uniform(low = -3, high = 3, size = 50)\n",
    "    y = 3-2*x\n",
    "    residual = np.random.normal(0, 1, size = (1, 50))\n",
    "    y = np.add(y, residual)\n",
    "    if (t_value(y, x) < -scipy.stats.t.ppf(q=.95,df=48)) | (t_value(y, x) > scipy.stats.t.ppf(q=.95,df=48)):\n",
    "        D = D+1\n",
    "print(D/100)"
   ]
  },
  {
   "cell_type": "markdown",
   "id": "9f6ed82c",
   "metadata": {},
   "source": [
    "m=100000"
   ]
  },
  {
   "cell_type": "code",
   "execution_count": 223,
   "id": "89963133",
   "metadata": {},
   "outputs": [
    {
     "name": "stdout",
     "output_type": "stream",
     "text": [
      "0.09983\n"
     ]
    }
   ],
   "source": [
    "D = 0\n",
    "for i in range(100000):\n",
    "    x = np.random.uniform(low = -3, high = 3, size = 50)\n",
    "    y = 3-2*x\n",
    "    residual = np.random.normal(0, 1, size = (1, 50))\n",
    "    y = np.add(y, residual)\n",
    "    if (t_value(y, x) < -scipy.stats.t.ppf(q=.95,df=48)) | (t_value(y, x) > scipy.stats.t.ppf(q=.95,df=48)):\n",
    "        D = D+1\n",
    "print(D/100000)"
   ]
  },
  {
   "cell_type": "code",
   "execution_count": null,
   "id": "b69e6d2e",
   "metadata": {},
   "outputs": [],
   "source": []
  }
 ],
 "metadata": {
  "kernelspec": {
   "display_name": "Python 3 (ipykernel)",
   "language": "python",
   "name": "python3"
  },
  "language_info": {
   "codemirror_mode": {
    "name": "ipython",
    "version": 3
   },
   "file_extension": ".py",
   "mimetype": "text/x-python",
   "name": "python",
   "nbconvert_exporter": "python",
   "pygments_lexer": "ipython3",
   "version": "3.8.12"
  }
 },
 "nbformat": 4,
 "nbformat_minor": 5
}
