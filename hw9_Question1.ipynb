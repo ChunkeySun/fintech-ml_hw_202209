{
 "cells": [
  {
   "cell_type": "markdown",
   "metadata": {},
   "source": [
    "# Question1"
   ]
  },
  {
   "cell_type": "markdown",
   "metadata": {},
   "source": [
    "先載入所需套件"
   ]
  },
  {
   "cell_type": "code",
   "execution_count": 1,
   "metadata": {},
   "outputs": [],
   "source": [
    "from sklearn import preprocessing\n",
    "from sklearn.model_selection import GridSearchCV\n",
    "from sklearn.preprocessing import LabelEncoder\n",
    "from sklearn.model_selection import train_test_split\n",
    "from sklearn.linear_model import LogisticRegression\n",
    "from sklearn.metrics import confusion_matrix, accuracy_score, ConfusionMatrixDisplay\n",
    "import pandas as pd\n",
    "import numpy as np\n",
    "import matplotlib.pyplot as plt\n",
    "import seaborn as sns\n",
    "%matplotlib inline"
   ]
  },
  {
   "cell_type": "markdown",
   "metadata": {},
   "source": [
    "匯入作業要求之鐵達尼號資料"
   ]
  },
  {
   "cell_type": "code",
   "execution_count": 3,
   "metadata": {},
   "outputs": [],
   "source": [
    "data = pd.read_csv(r\"C:\\Users\\user\\Desktop\\碩一上\\ml & fintech\\Titanic Dataset.csv\")"
   ]
  },
  {
   "cell_type": "markdown",
   "metadata": {},
   "source": [
    "## 1.EDA"
   ]
  },
  {
   "cell_type": "markdown",
   "metadata": {},
   "source": [
    "顯示該資料集資訊與各項參數的類別數量。"
   ]
  },
  {
   "cell_type": "code",
   "execution_count": 4,
   "metadata": {},
   "outputs": [
    {
     "name": "stdout",
     "output_type": "stream",
     "text": [
      "<class 'pandas.core.frame.DataFrame'>\n",
      "RangeIndex: 887 entries, 0 to 886\n",
      "Data columns (total 8 columns):\n",
      " #   Column                   Non-Null Count  Dtype  \n",
      "---  ------                   --------------  -----  \n",
      " 0   Name                     887 non-null    object \n",
      " 1   Sex                      887 non-null    object \n",
      " 2   Age                      887 non-null    float64\n",
      " 3   Siblings/Spouses Aboard  887 non-null    int64  \n",
      " 4   Parents/Children Aboard  887 non-null    int64  \n",
      " 5   Fare                     887 non-null    float64\n",
      " 6   Pclass                   887 non-null    int64  \n",
      " 7   Survived                 887 non-null    int64  \n",
      "dtypes: float64(2), int64(4), object(2)\n",
      "memory usage: 55.6+ KB\n"
     ]
    },
    {
     "data": {
      "text/plain": [
       "Name                       887\n",
       "Sex                          2\n",
       "Age                         89\n",
       "Siblings/Spouses Aboard      7\n",
       "Parents/Children Aboard      7\n",
       "Fare                       248\n",
       "Pclass                       3\n",
       "Survived                     2\n",
       "dtype: int64"
      ]
     },
     "execution_count": 4,
     "metadata": {},
     "output_type": "execute_result"
    }
   ],
   "source": [
    "data.info()\n",
    "data.nunique()"
   ]
  },
  {
   "cell_type": "code",
   "execution_count": 5,
   "metadata": {},
   "outputs": [
    {
     "data": {
      "text/html": [
       "<div>\n",
       "<style scoped>\n",
       "    .dataframe tbody tr th:only-of-type {\n",
       "        vertical-align: middle;\n",
       "    }\n",
       "\n",
       "    .dataframe tbody tr th {\n",
       "        vertical-align: top;\n",
       "    }\n",
       "\n",
       "    .dataframe thead th {\n",
       "        text-align: right;\n",
       "    }\n",
       "</style>\n",
       "<table border=\"1\" class=\"dataframe\">\n",
       "  <thead>\n",
       "    <tr style=\"text-align: right;\">\n",
       "      <th></th>\n",
       "      <th>Name</th>\n",
       "      <th>Sex</th>\n",
       "      <th>Age</th>\n",
       "      <th>Siblings/Spouses Aboard</th>\n",
       "      <th>Parents/Children Aboard</th>\n",
       "      <th>Fare</th>\n",
       "      <th>Pclass</th>\n",
       "      <th>Survived</th>\n",
       "    </tr>\n",
       "  </thead>\n",
       "  <tbody>\n",
       "    <tr>\n",
       "      <th>0</th>\n",
       "      <td>Mr. Owen Harris Braund</td>\n",
       "      <td>male</td>\n",
       "      <td>22.0</td>\n",
       "      <td>1</td>\n",
       "      <td>0</td>\n",
       "      <td>7.2500</td>\n",
       "      <td>3</td>\n",
       "      <td>0</td>\n",
       "    </tr>\n",
       "    <tr>\n",
       "      <th>1</th>\n",
       "      <td>Mrs. John Bradley (Florence Briggs Thayer) Cum...</td>\n",
       "      <td>female</td>\n",
       "      <td>38.0</td>\n",
       "      <td>1</td>\n",
       "      <td>0</td>\n",
       "      <td>71.2833</td>\n",
       "      <td>1</td>\n",
       "      <td>1</td>\n",
       "    </tr>\n",
       "    <tr>\n",
       "      <th>2</th>\n",
       "      <td>Miss. Laina Heikkinen</td>\n",
       "      <td>female</td>\n",
       "      <td>26.0</td>\n",
       "      <td>0</td>\n",
       "      <td>0</td>\n",
       "      <td>7.9250</td>\n",
       "      <td>3</td>\n",
       "      <td>1</td>\n",
       "    </tr>\n",
       "    <tr>\n",
       "      <th>3</th>\n",
       "      <td>Mrs. Jacques Heath (Lily May Peel) Futrelle</td>\n",
       "      <td>female</td>\n",
       "      <td>35.0</td>\n",
       "      <td>1</td>\n",
       "      <td>0</td>\n",
       "      <td>53.1000</td>\n",
       "      <td>1</td>\n",
       "      <td>1</td>\n",
       "    </tr>\n",
       "    <tr>\n",
       "      <th>4</th>\n",
       "      <td>Mr. William Henry Allen</td>\n",
       "      <td>male</td>\n",
       "      <td>35.0</td>\n",
       "      <td>0</td>\n",
       "      <td>0</td>\n",
       "      <td>8.0500</td>\n",
       "      <td>3</td>\n",
       "      <td>0</td>\n",
       "    </tr>\n",
       "    <tr>\n",
       "      <th>...</th>\n",
       "      <td>...</td>\n",
       "      <td>...</td>\n",
       "      <td>...</td>\n",
       "      <td>...</td>\n",
       "      <td>...</td>\n",
       "      <td>...</td>\n",
       "      <td>...</td>\n",
       "      <td>...</td>\n",
       "    </tr>\n",
       "    <tr>\n",
       "      <th>882</th>\n",
       "      <td>Rev. Juozas Montvila</td>\n",
       "      <td>male</td>\n",
       "      <td>27.0</td>\n",
       "      <td>0</td>\n",
       "      <td>0</td>\n",
       "      <td>13.0000</td>\n",
       "      <td>2</td>\n",
       "      <td>0</td>\n",
       "    </tr>\n",
       "    <tr>\n",
       "      <th>883</th>\n",
       "      <td>Miss. Margaret Edith Graham</td>\n",
       "      <td>female</td>\n",
       "      <td>19.0</td>\n",
       "      <td>0</td>\n",
       "      <td>0</td>\n",
       "      <td>30.0000</td>\n",
       "      <td>1</td>\n",
       "      <td>1</td>\n",
       "    </tr>\n",
       "    <tr>\n",
       "      <th>884</th>\n",
       "      <td>Miss. Catherine Helen Johnston</td>\n",
       "      <td>female</td>\n",
       "      <td>7.0</td>\n",
       "      <td>1</td>\n",
       "      <td>2</td>\n",
       "      <td>23.4500</td>\n",
       "      <td>3</td>\n",
       "      <td>0</td>\n",
       "    </tr>\n",
       "    <tr>\n",
       "      <th>885</th>\n",
       "      <td>Mr. Karl Howell Behr</td>\n",
       "      <td>male</td>\n",
       "      <td>26.0</td>\n",
       "      <td>0</td>\n",
       "      <td>0</td>\n",
       "      <td>30.0000</td>\n",
       "      <td>1</td>\n",
       "      <td>1</td>\n",
       "    </tr>\n",
       "    <tr>\n",
       "      <th>886</th>\n",
       "      <td>Mr. Patrick Dooley</td>\n",
       "      <td>male</td>\n",
       "      <td>32.0</td>\n",
       "      <td>0</td>\n",
       "      <td>0</td>\n",
       "      <td>7.7500</td>\n",
       "      <td>3</td>\n",
       "      <td>0</td>\n",
       "    </tr>\n",
       "  </tbody>\n",
       "</table>\n",
       "<p>887 rows × 8 columns</p>\n",
       "</div>"
      ],
      "text/plain": [
       "                                                  Name     Sex   Age  \\\n",
       "0                               Mr. Owen Harris Braund    male  22.0   \n",
       "1    Mrs. John Bradley (Florence Briggs Thayer) Cum...  female  38.0   \n",
       "2                                Miss. Laina Heikkinen  female  26.0   \n",
       "3          Mrs. Jacques Heath (Lily May Peel) Futrelle  female  35.0   \n",
       "4                              Mr. William Henry Allen    male  35.0   \n",
       "..                                                 ...     ...   ...   \n",
       "882                               Rev. Juozas Montvila    male  27.0   \n",
       "883                        Miss. Margaret Edith Graham  female  19.0   \n",
       "884                     Miss. Catherine Helen Johnston  female   7.0   \n",
       "885                               Mr. Karl Howell Behr    male  26.0   \n",
       "886                                 Mr. Patrick Dooley    male  32.0   \n",
       "\n",
       "     Siblings/Spouses Aboard  Parents/Children Aboard     Fare  Pclass  \\\n",
       "0                          1                        0   7.2500       3   \n",
       "1                          1                        0  71.2833       1   \n",
       "2                          0                        0   7.9250       3   \n",
       "3                          1                        0  53.1000       1   \n",
       "4                          0                        0   8.0500       3   \n",
       "..                       ...                      ...      ...     ...   \n",
       "882                        0                        0  13.0000       2   \n",
       "883                        0                        0  30.0000       1   \n",
       "884                        1                        2  23.4500       3   \n",
       "885                        0                        0  30.0000       1   \n",
       "886                        0                        0   7.7500       3   \n",
       "\n",
       "     Survived  \n",
       "0           0  \n",
       "1           1  \n",
       "2           1  \n",
       "3           1  \n",
       "4           0  \n",
       "..        ...  \n",
       "882         0  \n",
       "883         1  \n",
       "884         0  \n",
       "885         1  \n",
       "886         0  \n",
       "\n",
       "[887 rows x 8 columns]"
      ]
     },
     "execution_count": 5,
     "metadata": {},
     "output_type": "execute_result"
    }
   ],
   "source": [
    "data.reset_index(drop = True ,inplace = True)\n",
    "data"
   ]
  },
  {
   "cell_type": "markdown",
   "metadata": {},
   "source": [
    "使用seaborn套件繪製出生存與否於不同性別下的數量長條圖，與性別倖存的比率，可看出女性存活率較男性高出相當多。"
   ]
  },
  {
   "cell_type": "code",
   "execution_count": 6,
   "metadata": {},
   "outputs": [
    {
     "name": "stderr",
     "output_type": "stream",
     "text": [
      "C:\\ProgramData\\Anaconda3\\lib\\site-packages\\seaborn\\_decorators.py:36: FutureWarning: Pass the following variable as a keyword arg: x. From version 0.12, the only valid positional argument will be `data`, and passing other arguments without an explicit keyword will result in an error or misinterpretation.\n",
      "  warnings.warn(\n"
     ]
    },
    {
     "data": {
      "text/html": [
       "<div>\n",
       "<style scoped>\n",
       "    .dataframe tbody tr th:only-of-type {\n",
       "        vertical-align: middle;\n",
       "    }\n",
       "\n",
       "    .dataframe tbody tr th {\n",
       "        vertical-align: top;\n",
       "    }\n",
       "\n",
       "    .dataframe thead th {\n",
       "        text-align: right;\n",
       "    }\n",
       "</style>\n",
       "<table border=\"1\" class=\"dataframe\">\n",
       "  <thead>\n",
       "    <tr style=\"text-align: right;\">\n",
       "      <th></th>\n",
       "      <th>Sex</th>\n",
       "      <th>Survived</th>\n",
       "    </tr>\n",
       "  </thead>\n",
       "  <tbody>\n",
       "    <tr>\n",
       "      <th>0</th>\n",
       "      <td>female</td>\n",
       "      <td>0.742</td>\n",
       "    </tr>\n",
       "    <tr>\n",
       "      <th>1</th>\n",
       "      <td>male</td>\n",
       "      <td>0.190</td>\n",
       "    </tr>\n",
       "  </tbody>\n",
       "</table>\n",
       "</div>"
      ],
      "text/plain": [
       "      Sex  Survived\n",
       "0  female     0.742\n",
       "1    male     0.190"
      ]
     },
     "metadata": {},
     "output_type": "display_data"
    },
    {
     "data": {
      "image/png": "[encoded data removed]",
      "text/plain": [
       "<Figure size 640x480 with 1 Axes>"
      ]
     },
     "metadata": {},
     "output_type": "display_data"
    }
   ],
   "source": [
    "sns.countplot(data['Survived'],hue = data['Sex'])\n",
    "display(data[['Sex','Survived']].groupby(['Sex'],as_index = False).mean().round(3))"
   ]
  },
  {
   "cell_type": "markdown",
   "metadata": {},
   "source": [
    "繪製出乘客生存與否於不同等級艙位下的數量長條圖，與不同等級艙位下倖存的比率，可看出乘客於越高等級艙位存活率較低等級艙高出相當多。"
   ]
  },
  {
   "cell_type": "code",
   "execution_count": 7,
   "metadata": {},
   "outputs": [
    {
     "name": "stderr",
     "output_type": "stream",
     "text": [
      "C:\\ProgramData\\Anaconda3\\lib\\site-packages\\seaborn\\_decorators.py:36: FutureWarning: Pass the following variable as a keyword arg: x. From version 0.12, the only valid positional argument will be `data`, and passing other arguments without an explicit keyword will result in an error or misinterpretation.\n",
      "  warnings.warn(\n"
     ]
    },
    {
     "data": {
      "text/html": [
       "<div>\n",
       "<style scoped>\n",
       "    .dataframe tbody tr th:only-of-type {\n",
       "        vertical-align: middle;\n",
       "    }\n",
       "\n",
       "    .dataframe tbody tr th {\n",
       "        vertical-align: top;\n",
       "    }\n",
       "\n",
       "    .dataframe thead th {\n",
       "        text-align: right;\n",
       "    }\n",
       "</style>\n",
       "<table border=\"1\" class=\"dataframe\">\n",
       "  <thead>\n",
       "    <tr style=\"text-align: right;\">\n",
       "      <th></th>\n",
       "      <th>Pclass</th>\n",
       "      <th>Survived</th>\n",
       "    </tr>\n",
       "  </thead>\n",
       "  <tbody>\n",
       "    <tr>\n",
       "      <th>0</th>\n",
       "      <td>1</td>\n",
       "      <td>0.630</td>\n",
       "    </tr>\n",
       "    <tr>\n",
       "      <th>1</th>\n",
       "      <td>2</td>\n",
       "      <td>0.473</td>\n",
       "    </tr>\n",
       "    <tr>\n",
       "      <th>2</th>\n",
       "      <td>3</td>\n",
       "      <td>0.244</td>\n",
       "    </tr>\n",
       "  </tbody>\n",
       "</table>\n",
       "</div>"
      ],
      "text/plain": [
       "   Pclass  Survived\n",
       "0       1     0.630\n",
       "1       2     0.473\n",
       "2       3     0.244"
      ]
     },
     "metadata": {},
     "output_type": "display_data"
    },
    {
     "data": {
      "image/png": "[encoded data removed]",
      "text/plain": [
       "<Figure size 640x480 with 1 Axes>"
      ]
     },
     "metadata": {},
     "output_type": "display_data"
    }
   ],
   "source": [
    "sns.countplot(data['Pclass'],hue = data['Survived'])\n",
    "display(data[['Pclass','Survived']].groupby(['Pclass'],as_index = False).mean().round(3))"
   ]
  },
  {
   "cell_type": "markdown",
   "metadata": {},
   "source": [
    "繪製出乘客生存與否在不同年齡層上的數量直方圖，可發現未存活乘客相較於存活之乘客於20~30歲有相當高的比例。"
   ]
  },
  {
   "cell_type": "code",
   "execution_count": 8,
   "metadata": {},
   "outputs": [
    {
     "name": "stderr",
     "output_type": "stream",
     "text": [
      "C:\\ProgramData\\Anaconda3\\lib\\site-packages\\seaborn\\distributions.py:2619: FutureWarning: `distplot` is a deprecated function and will be removed in a future version. Please adapt your code to use either `displot` (a figure-level function with similar flexibility) or `histplot` (an axes-level function for histograms).\n",
      "  warnings.warn(msg, FutureWarning)\n",
      "C:\\ProgramData\\Anaconda3\\lib\\site-packages\\seaborn\\distributions.py:2619: FutureWarning: `distplot` is a deprecated function and will be removed in a future version. Please adapt your code to use either `displot` (a figure-level function with similar flexibility) or `histplot` (an axes-level function for histograms).\n",
      "  warnings.warn(msg, FutureWarning)\n"
     ]
    },
    {
     "data": {
      "text/plain": [
       "<seaborn.axisgrid.FacetGrid at 0x1c131b5a760>"
      ]
     },
     "execution_count": 8,
     "metadata": {},
     "output_type": "execute_result"
    },
    {
     "data": {
      "image/png": "[encoded data removed]",
      "text/plain": [
       "<Figure size 600x300 with 2 Axes>"
      ]
     },
     "metadata": {},
     "output_type": "display_data"
    }
   ],
   "source": [
    "g = sns.FacetGrid(data, col = 'Survived')\n",
    "g.map(sns.distplot,'Age',kde = False)"
   ]
  },
  {
   "cell_type": "markdown",
   "metadata": {},
   "source": [
    "繪製出乘客生存與否在不同票價上的數量直方圖，可以看出購買低票價的乘客死亡數量相當的高。"
   ]
  },
  {
   "cell_type": "code",
   "execution_count": 9,
   "metadata": {},
   "outputs": [
    {
     "name": "stderr",
     "output_type": "stream",
     "text": [
      "C:\\ProgramData\\Anaconda3\\lib\\site-packages\\seaborn\\distributions.py:2619: FutureWarning: `distplot` is a deprecated function and will be removed in a future version. Please adapt your code to use either `displot` (a figure-level function with similar flexibility) or `histplot` (an axes-level function for histograms).\n",
      "  warnings.warn(msg, FutureWarning)\n",
      "C:\\ProgramData\\Anaconda3\\lib\\site-packages\\seaborn\\distributions.py:2619: FutureWarning: `distplot` is a deprecated function and will be removed in a future version. Please adapt your code to use either `displot` (a figure-level function with similar flexibility) or `histplot` (an axes-level function for histograms).\n",
      "  warnings.warn(msg, FutureWarning)\n"
     ]
    },
    {
     "data": {
      "text/plain": [
       "<seaborn.axisgrid.FacetGrid at 0x1c131a453d0>"
      ]
     },
     "execution_count": 9,
     "metadata": {},
     "output_type": "execute_result"
    },
    {
     "data": {
      "image/png": "[encoded data removed]",
      "text/plain": [
       "<Figure size 600x300 with 2 Axes>"
      ]
     },
     "metadata": {},
     "output_type": "display_data"
    }
   ],
   "source": [
    "g = sns.FacetGrid(data, col = 'Survived')\n",
    "g.map(sns.distplot,'Fare',kde = False)"
   ]
  },
  {
   "cell_type": "markdown",
   "metadata": {},
   "source": [
    "當乘客有(兄弟姊妹/配偶)或(父母/小孩)一起上船時存活率，可看見兄弟姊妹與配偶在0到3人一起上船時，存活率先生後降，父母與小孩在0到4，存活率隨著人數增加而提高。"
   ]
  },
  {
   "cell_type": "code",
   "execution_count": 10,
   "metadata": {},
   "outputs": [
    {
     "data": {
      "text/html": [
       "<div>\n",
       "<style scoped>\n",
       "    .dataframe tbody tr th:only-of-type {\n",
       "        vertical-align: middle;\n",
       "    }\n",
       "\n",
       "    .dataframe tbody tr th {\n",
       "        vertical-align: top;\n",
       "    }\n",
       "\n",
       "    .dataframe thead th {\n",
       "        text-align: right;\n",
       "    }\n",
       "</style>\n",
       "<table border=\"1\" class=\"dataframe\">\n",
       "  <thead>\n",
       "    <tr style=\"text-align: right;\">\n",
       "      <th></th>\n",
       "      <th>Siblings/Spouses Aboard</th>\n",
       "      <th>Survived</th>\n",
       "    </tr>\n",
       "  </thead>\n",
       "  <tbody>\n",
       "    <tr>\n",
       "      <th>0</th>\n",
       "      <td>0</td>\n",
       "      <td>0.348</td>\n",
       "    </tr>\n",
       "    <tr>\n",
       "      <th>1</th>\n",
       "      <td>1</td>\n",
       "      <td>0.536</td>\n",
       "    </tr>\n",
       "    <tr>\n",
       "      <th>2</th>\n",
       "      <td>2</td>\n",
       "      <td>0.464</td>\n",
       "    </tr>\n",
       "    <tr>\n",
       "      <th>3</th>\n",
       "      <td>3</td>\n",
       "      <td>0.250</td>\n",
       "    </tr>\n",
       "    <tr>\n",
       "      <th>4</th>\n",
       "      <td>4</td>\n",
       "      <td>0.167</td>\n",
       "    </tr>\n",
       "    <tr>\n",
       "      <th>5</th>\n",
       "      <td>5</td>\n",
       "      <td>0.000</td>\n",
       "    </tr>\n",
       "    <tr>\n",
       "      <th>6</th>\n",
       "      <td>8</td>\n",
       "      <td>0.000</td>\n",
       "    </tr>\n",
       "  </tbody>\n",
       "</table>\n",
       "</div>"
      ],
      "text/plain": [
       "   Siblings/Spouses Aboard  Survived\n",
       "0                        0     0.348\n",
       "1                        1     0.536\n",
       "2                        2     0.464\n",
       "3                        3     0.250\n",
       "4                        4     0.167\n",
       "5                        5     0.000\n",
       "6                        8     0.000"
      ]
     },
     "metadata": {},
     "output_type": "display_data"
    },
    {
     "data": {
      "text/html": [
       "<div>\n",
       "<style scoped>\n",
       "    .dataframe tbody tr th:only-of-type {\n",
       "        vertical-align: middle;\n",
       "    }\n",
       "\n",
       "    .dataframe tbody tr th {\n",
       "        vertical-align: top;\n",
       "    }\n",
       "\n",
       "    .dataframe thead th {\n",
       "        text-align: right;\n",
       "    }\n",
       "</style>\n",
       "<table border=\"1\" class=\"dataframe\">\n",
       "  <thead>\n",
       "    <tr style=\"text-align: right;\">\n",
       "      <th></th>\n",
       "      <th>Parents/Children Aboard</th>\n",
       "      <th>Survived</th>\n",
       "    </tr>\n",
       "  </thead>\n",
       "  <tbody>\n",
       "    <tr>\n",
       "      <th>0</th>\n",
       "      <td>0</td>\n",
       "      <td>0.346</td>\n",
       "    </tr>\n",
       "    <tr>\n",
       "      <th>1</th>\n",
       "      <td>1</td>\n",
       "      <td>0.551</td>\n",
       "    </tr>\n",
       "    <tr>\n",
       "      <th>2</th>\n",
       "      <td>2</td>\n",
       "      <td>0.500</td>\n",
       "    </tr>\n",
       "    <tr>\n",
       "      <th>3</th>\n",
       "      <td>3</td>\n",
       "      <td>0.600</td>\n",
       "    </tr>\n",
       "    <tr>\n",
       "      <th>4</th>\n",
       "      <td>4</td>\n",
       "      <td>0.000</td>\n",
       "    </tr>\n",
       "    <tr>\n",
       "      <th>5</th>\n",
       "      <td>5</td>\n",
       "      <td>0.200</td>\n",
       "    </tr>\n",
       "    <tr>\n",
       "      <th>6</th>\n",
       "      <td>6</td>\n",
       "      <td>0.000</td>\n",
       "    </tr>\n",
       "  </tbody>\n",
       "</table>\n",
       "</div>"
      ],
      "text/plain": [
       "   Parents/Children Aboard  Survived\n",
       "0                        0     0.346\n",
       "1                        1     0.551\n",
       "2                        2     0.500\n",
       "3                        3     0.600\n",
       "4                        4     0.000\n",
       "5                        5     0.200\n",
       "6                        6     0.000"
      ]
     },
     "metadata": {},
     "output_type": "display_data"
    }
   ],
   "source": [
    "display(data[['Siblings/Spouses Aboard','Survived']].groupby(['Siblings/Spouses Aboard'],as_index = False).mean().round(3))\n",
    "display(data[['Parents/Children Aboard','Survived']].groupby(['Parents/Children Aboard'],as_index = False).mean().round(3))"
   ]
  },
  {
   "cell_type": "markdown",
   "metadata": {},
   "source": [
    "衡量各參數相關係數之熱力圖。"
   ]
  },
  {
   "cell_type": "code",
   "execution_count": 11,
   "metadata": {},
   "outputs": [
    {
     "data": {
      "image/png": "[encoded data removed]",
      "text/plain": [
       "<Figure size 600x600 with 2 Axes>"
      ]
     },
     "metadata": {},
     "output_type": "display_data"
    }
   ],
   "source": [
    "plt.figure(figsize=(6,6))\n",
    "sns.heatmap(data.corr(), annot = False, center=0.0, cmap='coolwarm'); \n",
    "plt.show()"
   ]
  },
  {
   "cell_type": "markdown",
   "metadata": {},
   "source": [
    "## 2.Pre-process the continuous and discrete data"
   ]
  },
  {
   "cell_type": "markdown",
   "metadata": {},
   "source": [
    "首先想對乘客姓名進行處裡並分類，首先我們先將各位乘客名子的稱謂整理出來。"
   ]
  },
  {
   "cell_type": "code",
   "execution_count": 12,
   "metadata": {},
   "outputs": [
    {
     "data": {
      "text/plain": [
       "array(['Mr', 'Mrs', 'Miss', 'Master', 'Don', 'Rev', 'Dr', 'Mme', 'Ms',\n",
       "       'Major', 'Lady', 'Sir', 'Mlle', 'Col', 'Capt', 'the', 'Jonkheer'],\n",
       "      dtype=object)"
      ]
     },
     "execution_count": 12,
     "metadata": {},
     "output_type": "execute_result"
    }
   ],
   "source": [
    "data['title1'] = data['Name'].str.split(expand = True)[0]\n",
    "data['title1'] = data['title1'].str.split('.',expand = True)[0]\n",
    "data['title1'].unique()"
   ]
  },
  {
   "cell_type": "markdown",
   "metadata": {},
   "source": [
    "各姓名稱謂於性別的分布。"
   ]
  },
  {
   "cell_type": "code",
   "execution_count": 13,
   "metadata": {},
   "outputs": [
    {
     "data": {
      "text/html": [
       "<style type=\"text/css\">\n",
       "#T_0994b_row0_col0, #T_0994b_row0_col1, #T_0994b_row0_col2, #T_0994b_row0_col3, #T_0994b_row0_col4, #T_0994b_row0_col6, #T_0994b_row0_col7, #T_0994b_row0_col11, #T_0994b_row0_col14, #T_0994b_row0_col15, #T_0994b_row1_col5, #T_0994b_row1_col8, #T_0994b_row1_col9, #T_0994b_row1_col10, #T_0994b_row1_col12, #T_0994b_row1_col13, #T_0994b_row1_col16 {\n",
       "  background-color: #fff7fb;\n",
       "  color: #000000;\n",
       "}\n",
       "#T_0994b_row0_col5, #T_0994b_row0_col8, #T_0994b_row0_col9, #T_0994b_row0_col10, #T_0994b_row0_col12, #T_0994b_row0_col13, #T_0994b_row0_col16, #T_0994b_row1_col0, #T_0994b_row1_col1, #T_0994b_row1_col2, #T_0994b_row1_col3, #T_0994b_row1_col4, #T_0994b_row1_col6, #T_0994b_row1_col7, #T_0994b_row1_col11, #T_0994b_row1_col14, #T_0994b_row1_col15 {\n",
       "  background-color: #023858;\n",
       "  color: #f1f1f1;\n",
       "}\n",
       "</style>\n",
       "<table id=\"T_0994b\">\n",
       "  <thead>\n",
       "    <tr>\n",
       "      <th class=\"index_name level0\" >title1</th>\n",
       "      <th id=\"T_0994b_level0_col0\" class=\"col_heading level0 col0\" >Capt</th>\n",
       "      <th id=\"T_0994b_level0_col1\" class=\"col_heading level0 col1\" >Col</th>\n",
       "      <th id=\"T_0994b_level0_col2\" class=\"col_heading level0 col2\" >Don</th>\n",
       "      <th id=\"T_0994b_level0_col3\" class=\"col_heading level0 col3\" >Dr</th>\n",
       "      <th id=\"T_0994b_level0_col4\" class=\"col_heading level0 col4\" >Jonkheer</th>\n",
       "      <th id=\"T_0994b_level0_col5\" class=\"col_heading level0 col5\" >Lady</th>\n",
       "      <th id=\"T_0994b_level0_col6\" class=\"col_heading level0 col6\" >Major</th>\n",
       "      <th id=\"T_0994b_level0_col7\" class=\"col_heading level0 col7\" >Master</th>\n",
       "      <th id=\"T_0994b_level0_col8\" class=\"col_heading level0 col8\" >Miss</th>\n",
       "      <th id=\"T_0994b_level0_col9\" class=\"col_heading level0 col9\" >Mlle</th>\n",
       "      <th id=\"T_0994b_level0_col10\" class=\"col_heading level0 col10\" >Mme</th>\n",
       "      <th id=\"T_0994b_level0_col11\" class=\"col_heading level0 col11\" >Mr</th>\n",
       "      <th id=\"T_0994b_level0_col12\" class=\"col_heading level0 col12\" >Mrs</th>\n",
       "      <th id=\"T_0994b_level0_col13\" class=\"col_heading level0 col13\" >Ms</th>\n",
       "      <th id=\"T_0994b_level0_col14\" class=\"col_heading level0 col14\" >Rev</th>\n",
       "      <th id=\"T_0994b_level0_col15\" class=\"col_heading level0 col15\" >Sir</th>\n",
       "      <th id=\"T_0994b_level0_col16\" class=\"col_heading level0 col16\" >the</th>\n",
       "    </tr>\n",
       "    <tr>\n",
       "      <th class=\"index_name level0\" >Sex</th>\n",
       "      <th class=\"blank col0\" >&nbsp;</th>\n",
       "      <th class=\"blank col1\" >&nbsp;</th>\n",
       "      <th class=\"blank col2\" >&nbsp;</th>\n",
       "      <th class=\"blank col3\" >&nbsp;</th>\n",
       "      <th class=\"blank col4\" >&nbsp;</th>\n",
       "      <th class=\"blank col5\" >&nbsp;</th>\n",
       "      <th class=\"blank col6\" >&nbsp;</th>\n",
       "      <th class=\"blank col7\" >&nbsp;</th>\n",
       "      <th class=\"blank col8\" >&nbsp;</th>\n",
       "      <th class=\"blank col9\" >&nbsp;</th>\n",
       "      <th class=\"blank col10\" >&nbsp;</th>\n",
       "      <th class=\"blank col11\" >&nbsp;</th>\n",
       "      <th class=\"blank col12\" >&nbsp;</th>\n",
       "      <th class=\"blank col13\" >&nbsp;</th>\n",
       "      <th class=\"blank col14\" >&nbsp;</th>\n",
       "      <th class=\"blank col15\" >&nbsp;</th>\n",
       "      <th class=\"blank col16\" >&nbsp;</th>\n",
       "    </tr>\n",
       "  </thead>\n",
       "  <tbody>\n",
       "    <tr>\n",
       "      <th id=\"T_0994b_level0_row0\" class=\"row_heading level0 row0\" >female</th>\n",
       "      <td id=\"T_0994b_row0_col0\" class=\"data row0 col0\" >0</td>\n",
       "      <td id=\"T_0994b_row0_col1\" class=\"data row0 col1\" >0</td>\n",
       "      <td id=\"T_0994b_row0_col2\" class=\"data row0 col2\" >0</td>\n",
       "      <td id=\"T_0994b_row0_col3\" class=\"data row0 col3\" >1</td>\n",
       "      <td id=\"T_0994b_row0_col4\" class=\"data row0 col4\" >0</td>\n",
       "      <td id=\"T_0994b_row0_col5\" class=\"data row0 col5\" >1</td>\n",
       "      <td id=\"T_0994b_row0_col6\" class=\"data row0 col6\" >0</td>\n",
       "      <td id=\"T_0994b_row0_col7\" class=\"data row0 col7\" >0</td>\n",
       "      <td id=\"T_0994b_row0_col8\" class=\"data row0 col8\" >182</td>\n",
       "      <td id=\"T_0994b_row0_col9\" class=\"data row0 col9\" >2</td>\n",
       "      <td id=\"T_0994b_row0_col10\" class=\"data row0 col10\" >1</td>\n",
       "      <td id=\"T_0994b_row0_col11\" class=\"data row0 col11\" >0</td>\n",
       "      <td id=\"T_0994b_row0_col12\" class=\"data row0 col12\" >125</td>\n",
       "      <td id=\"T_0994b_row0_col13\" class=\"data row0 col13\" >1</td>\n",
       "      <td id=\"T_0994b_row0_col14\" class=\"data row0 col14\" >0</td>\n",
       "      <td id=\"T_0994b_row0_col15\" class=\"data row0 col15\" >0</td>\n",
       "      <td id=\"T_0994b_row0_col16\" class=\"data row0 col16\" >1</td>\n",
       "    </tr>\n",
       "    <tr>\n",
       "      <th id=\"T_0994b_level0_row1\" class=\"row_heading level0 row1\" >male</th>\n",
       "      <td id=\"T_0994b_row1_col0\" class=\"data row1 col0\" >1</td>\n",
       "      <td id=\"T_0994b_row1_col1\" class=\"data row1 col1\" >2</td>\n",
       "      <td id=\"T_0994b_row1_col2\" class=\"data row1 col2\" >1</td>\n",
       "      <td id=\"T_0994b_row1_col3\" class=\"data row1 col3\" >6</td>\n",
       "      <td id=\"T_0994b_row1_col4\" class=\"data row1 col4\" >1</td>\n",
       "      <td id=\"T_0994b_row1_col5\" class=\"data row1 col5\" >0</td>\n",
       "      <td id=\"T_0994b_row1_col6\" class=\"data row1 col6\" >2</td>\n",
       "      <td id=\"T_0994b_row1_col7\" class=\"data row1 col7\" >40</td>\n",
       "      <td id=\"T_0994b_row1_col8\" class=\"data row1 col8\" >0</td>\n",
       "      <td id=\"T_0994b_row1_col9\" class=\"data row1 col9\" >0</td>\n",
       "      <td id=\"T_0994b_row1_col10\" class=\"data row1 col10\" >0</td>\n",
       "      <td id=\"T_0994b_row1_col11\" class=\"data row1 col11\" >513</td>\n",
       "      <td id=\"T_0994b_row1_col12\" class=\"data row1 col12\" >0</td>\n",
       "      <td id=\"T_0994b_row1_col13\" class=\"data row1 col13\" >0</td>\n",
       "      <td id=\"T_0994b_row1_col14\" class=\"data row1 col14\" >6</td>\n",
       "      <td id=\"T_0994b_row1_col15\" class=\"data row1 col15\" >1</td>\n",
       "      <td id=\"T_0994b_row1_col16\" class=\"data row1 col16\" >0</td>\n",
       "    </tr>\n",
       "  </tbody>\n",
       "</table>\n"
      ],
      "text/plain": [
       "<pandas.io.formats.style.Styler at 0x1c130029490>"
      ]
     },
     "execution_count": 13,
     "metadata": {},
     "output_type": "execute_result"
    }
   ],
   "source": [
    "pd.crosstab(data['title1'],data['Sex']).T.style.background_gradient(cmap='PuBu')"
   ]
  },
  {
   "cell_type": "markdown",
   "metadata": {},
   "source": [
    "各姓名稱謂存活與否在數量上的的分布。"
   ]
  },
  {
   "cell_type": "code",
   "execution_count": 14,
   "metadata": {},
   "outputs": [
    {
     "data": {
      "text/html": [
       "<style type=\"text/css\">\n",
       "#T_b921a_row0_col0, #T_b921a_row0_col2, #T_b921a_row0_col3, #T_b921a_row0_col4, #T_b921a_row0_col11, #T_b921a_row0_col14, #T_b921a_row1_col5, #T_b921a_row1_col7, #T_b921a_row1_col8, #T_b921a_row1_col9, #T_b921a_row1_col10, #T_b921a_row1_col12, #T_b921a_row1_col13, #T_b921a_row1_col15, #T_b921a_row1_col16 {\n",
       "  background-color: #023858;\n",
       "  color: #f1f1f1;\n",
       "}\n",
       "#T_b921a_row0_col1, #T_b921a_row0_col5, #T_b921a_row0_col6, #T_b921a_row0_col7, #T_b921a_row0_col8, #T_b921a_row0_col9, #T_b921a_row0_col10, #T_b921a_row0_col12, #T_b921a_row0_col13, #T_b921a_row0_col15, #T_b921a_row0_col16, #T_b921a_row1_col0, #T_b921a_row1_col1, #T_b921a_row1_col2, #T_b921a_row1_col3, #T_b921a_row1_col4, #T_b921a_row1_col6, #T_b921a_row1_col11, #T_b921a_row1_col14 {\n",
       "  background-color: #fff7fb;\n",
       "  color: #000000;\n",
       "}\n",
       "</style>\n",
       "<table id=\"T_b921a\">\n",
       "  <thead>\n",
       "    <tr>\n",
       "      <th class=\"index_name level0\" >title1</th>\n",
       "      <th id=\"T_b921a_level0_col0\" class=\"col_heading level0 col0\" >Capt</th>\n",
       "      <th id=\"T_b921a_level0_col1\" class=\"col_heading level0 col1\" >Col</th>\n",
       "      <th id=\"T_b921a_level0_col2\" class=\"col_heading level0 col2\" >Don</th>\n",
       "      <th id=\"T_b921a_level0_col3\" class=\"col_heading level0 col3\" >Dr</th>\n",
       "      <th id=\"T_b921a_level0_col4\" class=\"col_heading level0 col4\" >Jonkheer</th>\n",
       "      <th id=\"T_b921a_level0_col5\" class=\"col_heading level0 col5\" >Lady</th>\n",
       "      <th id=\"T_b921a_level0_col6\" class=\"col_heading level0 col6\" >Major</th>\n",
       "      <th id=\"T_b921a_level0_col7\" class=\"col_heading level0 col7\" >Master</th>\n",
       "      <th id=\"T_b921a_level0_col8\" class=\"col_heading level0 col8\" >Miss</th>\n",
       "      <th id=\"T_b921a_level0_col9\" class=\"col_heading level0 col9\" >Mlle</th>\n",
       "      <th id=\"T_b921a_level0_col10\" class=\"col_heading level0 col10\" >Mme</th>\n",
       "      <th id=\"T_b921a_level0_col11\" class=\"col_heading level0 col11\" >Mr</th>\n",
       "      <th id=\"T_b921a_level0_col12\" class=\"col_heading level0 col12\" >Mrs</th>\n",
       "      <th id=\"T_b921a_level0_col13\" class=\"col_heading level0 col13\" >Ms</th>\n",
       "      <th id=\"T_b921a_level0_col14\" class=\"col_heading level0 col14\" >Rev</th>\n",
       "      <th id=\"T_b921a_level0_col15\" class=\"col_heading level0 col15\" >Sir</th>\n",
       "      <th id=\"T_b921a_level0_col16\" class=\"col_heading level0 col16\" >the</th>\n",
       "    </tr>\n",
       "    <tr>\n",
       "      <th class=\"index_name level0\" >Survived</th>\n",
       "      <th class=\"blank col0\" >&nbsp;</th>\n",
       "      <th class=\"blank col1\" >&nbsp;</th>\n",
       "      <th class=\"blank col2\" >&nbsp;</th>\n",
       "      <th class=\"blank col3\" >&nbsp;</th>\n",
       "      <th class=\"blank col4\" >&nbsp;</th>\n",
       "      <th class=\"blank col5\" >&nbsp;</th>\n",
       "      <th class=\"blank col6\" >&nbsp;</th>\n",
       "      <th class=\"blank col7\" >&nbsp;</th>\n",
       "      <th class=\"blank col8\" >&nbsp;</th>\n",
       "      <th class=\"blank col9\" >&nbsp;</th>\n",
       "      <th class=\"blank col10\" >&nbsp;</th>\n",
       "      <th class=\"blank col11\" >&nbsp;</th>\n",
       "      <th class=\"blank col12\" >&nbsp;</th>\n",
       "      <th class=\"blank col13\" >&nbsp;</th>\n",
       "      <th class=\"blank col14\" >&nbsp;</th>\n",
       "      <th class=\"blank col15\" >&nbsp;</th>\n",
       "      <th class=\"blank col16\" >&nbsp;</th>\n",
       "    </tr>\n",
       "  </thead>\n",
       "  <tbody>\n",
       "    <tr>\n",
       "      <th id=\"T_b921a_level0_row0\" class=\"row_heading level0 row0\" >0</th>\n",
       "      <td id=\"T_b921a_row0_col0\" class=\"data row0 col0\" >1</td>\n",
       "      <td id=\"T_b921a_row0_col1\" class=\"data row0 col1\" >1</td>\n",
       "      <td id=\"T_b921a_row0_col2\" class=\"data row0 col2\" >1</td>\n",
       "      <td id=\"T_b921a_row0_col3\" class=\"data row0 col3\" >4</td>\n",
       "      <td id=\"T_b921a_row0_col4\" class=\"data row0 col4\" >1</td>\n",
       "      <td id=\"T_b921a_row0_col5\" class=\"data row0 col5\" >0</td>\n",
       "      <td id=\"T_b921a_row0_col6\" class=\"data row0 col6\" >1</td>\n",
       "      <td id=\"T_b921a_row0_col7\" class=\"data row0 col7\" >17</td>\n",
       "      <td id=\"T_b921a_row0_col8\" class=\"data row0 col8\" >55</td>\n",
       "      <td id=\"T_b921a_row0_col9\" class=\"data row0 col9\" >0</td>\n",
       "      <td id=\"T_b921a_row0_col10\" class=\"data row0 col10\" >0</td>\n",
       "      <td id=\"T_b921a_row0_col11\" class=\"data row0 col11\" >432</td>\n",
       "      <td id=\"T_b921a_row0_col12\" class=\"data row0 col12\" >26</td>\n",
       "      <td id=\"T_b921a_row0_col13\" class=\"data row0 col13\" >0</td>\n",
       "      <td id=\"T_b921a_row0_col14\" class=\"data row0 col14\" >6</td>\n",
       "      <td id=\"T_b921a_row0_col15\" class=\"data row0 col15\" >0</td>\n",
       "      <td id=\"T_b921a_row0_col16\" class=\"data row0 col16\" >0</td>\n",
       "    </tr>\n",
       "    <tr>\n",
       "      <th id=\"T_b921a_level0_row1\" class=\"row_heading level0 row1\" >1</th>\n",
       "      <td id=\"T_b921a_row1_col0\" class=\"data row1 col0\" >0</td>\n",
       "      <td id=\"T_b921a_row1_col1\" class=\"data row1 col1\" >1</td>\n",
       "      <td id=\"T_b921a_row1_col2\" class=\"data row1 col2\" >0</td>\n",
       "      <td id=\"T_b921a_row1_col3\" class=\"data row1 col3\" >3</td>\n",
       "      <td id=\"T_b921a_row1_col4\" class=\"data row1 col4\" >0</td>\n",
       "      <td id=\"T_b921a_row1_col5\" class=\"data row1 col5\" >1</td>\n",
       "      <td id=\"T_b921a_row1_col6\" class=\"data row1 col6\" >1</td>\n",
       "      <td id=\"T_b921a_row1_col7\" class=\"data row1 col7\" >23</td>\n",
       "      <td id=\"T_b921a_row1_col8\" class=\"data row1 col8\" >127</td>\n",
       "      <td id=\"T_b921a_row1_col9\" class=\"data row1 col9\" >2</td>\n",
       "      <td id=\"T_b921a_row1_col10\" class=\"data row1 col10\" >1</td>\n",
       "      <td id=\"T_b921a_row1_col11\" class=\"data row1 col11\" >81</td>\n",
       "      <td id=\"T_b921a_row1_col12\" class=\"data row1 col12\" >99</td>\n",
       "      <td id=\"T_b921a_row1_col13\" class=\"data row1 col13\" >1</td>\n",
       "      <td id=\"T_b921a_row1_col14\" class=\"data row1 col14\" >0</td>\n",
       "      <td id=\"T_b921a_row1_col15\" class=\"data row1 col15\" >1</td>\n",
       "      <td id=\"T_b921a_row1_col16\" class=\"data row1 col16\" >1</td>\n",
       "    </tr>\n",
       "  </tbody>\n",
       "</table>\n"
      ],
      "text/plain": [
       "<pandas.io.formats.style.Styler at 0x1c131253c70>"
      ]
     },
     "execution_count": 14,
     "metadata": {},
     "output_type": "execute_result"
    }
   ],
   "source": [
    "pd.crosstab(data['title1'],data['Survived']).T.style.background_gradient(cmap='PuBu')"
   ]
  },
  {
   "cell_type": "markdown",
   "metadata": {},
   "source": [
    "各稱謂平均年齡。"
   ]
  },
  {
   "cell_type": "code",
   "execution_count": 15,
   "metadata": {},
   "outputs": [
    {
     "data": {
      "text/plain": [
       "title1\n",
       "Capt        70.000000\n",
       "Col         58.000000\n",
       "Don         40.000000\n",
       "Dr          42.571429\n",
       "Jonkheer    38.000000\n",
       "Lady        48.000000\n",
       "Major       48.500000\n",
       "Master       4.641750\n",
       "Miss        21.994505\n",
       "Mlle        24.000000\n",
       "Mme         24.000000\n",
       "Mr          31.839181\n",
       "Mrs         35.768000\n",
       "Ms          28.000000\n",
       "Rev         43.166667\n",
       "Sir         49.000000\n",
       "the         33.000000\n",
       "Name: Age, dtype: float64"
      ]
     },
     "execution_count": 15,
     "metadata": {},
     "output_type": "execute_result"
    }
   ],
   "source": [
    "data.groupby(['title1'])['Age'].mean()"
   ]
  },
  {
   "cell_type": "markdown",
   "metadata": {},
   "source": [
    "我們將性別年齡相似的稱謂皆歸類於四大類 ('Mr', 'Mrs', 'Miss', 'Master') 並存於data ['title2']"
   ]
  },
  {
   "cell_type": "code",
   "execution_count": 16,
   "metadata": {},
   "outputs": [
    {
     "data": {
      "text/plain": [
       "array(['Mr', 'Mrs', 'Miss', 'Master'], dtype=object)"
      ]
     },
     "execution_count": 16,
     "metadata": {},
     "output_type": "execute_result"
    }
   ],
   "source": [
    "data['title2'] = data['title1'].replace(['Capt','Col','Don','Dona','Dr','Jonkheer','Lady','Major','Mlle','Mme','Ms','Rev','Sir','the'],[    \n",
    "'Mr','Mr','Mr','Mrs','Mr','Mr','Mrs','Mr','Miss','Miss','Miss','Mr','Mr','Mrs'])\n",
    "data['title2'].unique()"
   ]
  },
  {
   "cell_type": "markdown",
   "metadata": {},
   "source": [
    "票價的缺失值以票價之中位數補進。"
   ]
  },
  {
   "cell_type": "code",
   "execution_count": 17,
   "metadata": {},
   "outputs": [],
   "source": [
    "data['Fare'] = data['Fare'].fillna(data['Fare'].median())"
   ]
  },
  {
   "cell_type": "markdown",
   "metadata": {},
   "source": [
    "將票價分為4,5,6種價格區間，之後分別測試預測效果，下圖也能看到隨著票價區間增加，存活率跟著提高。"
   ]
  },
  {
   "cell_type": "code",
   "execution_count": 18,
   "metadata": {},
   "outputs": [
    {
     "name": "stderr",
     "output_type": "stream",
     "text": [
      "C:\\ProgramData\\Anaconda3\\lib\\site-packages\\seaborn\\categorical.py:3717: UserWarning: The `factorplot` function has been renamed to `catplot`. The original name will be removed in a future release. Please update your code. Note that the default `kind` in `factorplot` (`'point'`) has changed `'strip'` in `catplot`.\n",
      "  warnings.warn(msg)\n",
      "C:\\ProgramData\\Anaconda3\\lib\\site-packages\\seaborn\\categorical.py:3717: UserWarning: The `factorplot` function has been renamed to `catplot`. The original name will be removed in a future release. Please update your code. Note that the default `kind` in `factorplot` (`'point'`) has changed `'strip'` in `catplot`.\n",
      "  warnings.warn(msg)\n",
      "C:\\ProgramData\\Anaconda3\\lib\\site-packages\\seaborn\\categorical.py:3717: UserWarning: The `factorplot` function has been renamed to `catplot`. The original name will be removed in a future release. Please update your code. Note that the default `kind` in `factorplot` (`'point'`) has changed `'strip'` in `catplot`.\n",
      "  warnings.warn(msg)\n"
     ]
    },
    {
     "data": {
      "image/png": "[encoded data removed]",
      "text/plain": [
       "<Figure size 500x500 with 1 Axes>"
      ]
     },
     "metadata": {},
     "output_type": "display_data"
    },
    {
     "data": {
      "image/png": "[encoded data removed]",
      "text/plain": [
       "<Figure size 500x500 with 1 Axes>"
      ]
     },
     "metadata": {},
     "output_type": "display_data"
    },
    {
     "data": {
      "image/png": "[encoded data removed]",
      "text/plain": [
       "<Figure size 500x500 with 1 Axes>"
      ]
     },
     "metadata": {},
     "output_type": "display_data"
    }
   ],
   "source": [
    "data['farebin_4'] = pd.qcut(data['Fare'],4)\n",
    "data['farebin_5'] = pd.qcut(data['Fare'],5)\n",
    "data['farebin_6'] = pd.qcut(data['Fare'],6)\n",
    "label = LabelEncoder()\n",
    "data['fare_code_bin_4'] = label.fit_transform(data['farebin_4'])\n",
    "data['fare_code_bin_5'] = label.fit_transform(data['farebin_5'])\n",
    "data['fare_code_bin_6'] = label.fit_transform(data['farebin_6'])\n",
    "\n",
    "g1 = sns.factorplot(x = 'fare_code_bin_4', y = 'Survived', data = data, kind = 'bar')\n",
    "g2 = sns.factorplot(x = 'fare_code_bin_5', y = 'Survived', data = data, kind = 'bar')\n",
    "g3 = sns.factorplot(x = 'fare_code_bin_6', y = 'Survived', data = data, kind = 'bar')\n"
   ]
  },
  {
   "cell_type": "code",
   "execution_count": 19,
   "metadata": {},
   "outputs": [
    {
     "name": "stdout",
     "output_type": "stream",
     "text": [
      "<class 'pandas.core.frame.DataFrame'>\n",
      "RangeIndex: 887 entries, 0 to 886\n",
      "Data columns (total 16 columns):\n",
      " #   Column                   Non-Null Count  Dtype   \n",
      "---  ------                   --------------  -----   \n",
      " 0   Name                     887 non-null    object  \n",
      " 1   Sex                      887 non-null    object  \n",
      " 2   Age                      887 non-null    float64 \n",
      " 3   Siblings/Spouses Aboard  887 non-null    int64   \n",
      " 4   Parents/Children Aboard  887 non-null    int64   \n",
      " 5   Fare                     887 non-null    float64 \n",
      " 6   Pclass                   887 non-null    object  \n",
      " 7   Survived                 887 non-null    int64   \n",
      " 8   title1                   887 non-null    object  \n",
      " 9   title2                   887 non-null    object  \n",
      " 10  farebin_4                887 non-null    category\n",
      " 11  farebin_5                887 non-null    category\n",
      " 12  farebin_6                887 non-null    category\n",
      " 13  fare_code_bin_4          887 non-null    int32   \n",
      " 14  fare_code_bin_5          887 non-null    int32   \n",
      " 15  fare_code_bin_6          887 non-null    int32   \n",
      "dtypes: category(3), float64(2), int32(3), int64(3), object(5)\n",
      "memory usage: 83.2+ KB\n"
     ]
    }
   ],
   "source": [
    "data['title2'] = data['title2'].astype('category').cat.codes.astype('str')\n",
    "data['Sex'] = data['Sex'].astype('str')\n",
    "data['Pclass'] = data['Pclass'].astype('str')\n",
    "data.info()"
   ]
  },
  {
   "cell_type": "markdown",
   "metadata": {},
   "source": [
    "重新整理過後資料。"
   ]
  },
  {
   "cell_type": "code",
   "execution_count": 20,
   "metadata": {},
   "outputs": [
    {
     "data": {
      "text/html": [
       "<div>\n",
       "<style scoped>\n",
       "    .dataframe tbody tr th:only-of-type {\n",
       "        vertical-align: middle;\n",
       "    }\n",
       "\n",
       "    .dataframe tbody tr th {\n",
       "        vertical-align: top;\n",
       "    }\n",
       "\n",
       "    .dataframe thead th {\n",
       "        text-align: right;\n",
       "    }\n",
       "</style>\n",
       "<table border=\"1\" class=\"dataframe\">\n",
       "  <thead>\n",
       "    <tr style=\"text-align: right;\">\n",
       "      <th></th>\n",
       "      <th>Name</th>\n",
       "      <th>Sex</th>\n",
       "      <th>Age</th>\n",
       "      <th>Siblings/Spouses Aboard</th>\n",
       "      <th>Parents/Children Aboard</th>\n",
       "      <th>Fare</th>\n",
       "      <th>Pclass</th>\n",
       "      <th>Survived</th>\n",
       "      <th>title1</th>\n",
       "      <th>title2</th>\n",
       "      <th>farebin_4</th>\n",
       "      <th>farebin_5</th>\n",
       "      <th>farebin_6</th>\n",
       "      <th>fare_code_bin_4</th>\n",
       "      <th>fare_code_bin_5</th>\n",
       "      <th>fare_code_bin_6</th>\n",
       "    </tr>\n",
       "  </thead>\n",
       "  <tbody>\n",
       "    <tr>\n",
       "      <th>0</th>\n",
       "      <td>Mr. Owen Harris Braund</td>\n",
       "      <td>male</td>\n",
       "      <td>22.0</td>\n",
       "      <td>1</td>\n",
       "      <td>0</td>\n",
       "      <td>7.2500</td>\n",
       "      <td>3</td>\n",
       "      <td>0</td>\n",
       "      <td>Mr</td>\n",
       "      <td>2</td>\n",
       "      <td>(-0.001, 7.925]</td>\n",
       "      <td>(-0.001, 7.858]</td>\n",
       "      <td>(-0.001, 7.775]</td>\n",
       "      <td>0</td>\n",
       "      <td>0</td>\n",
       "      <td>0</td>\n",
       "    </tr>\n",
       "    <tr>\n",
       "      <th>1</th>\n",
       "      <td>Mrs. John Bradley (Florence Briggs Thayer) Cum...</td>\n",
       "      <td>female</td>\n",
       "      <td>38.0</td>\n",
       "      <td>1</td>\n",
       "      <td>0</td>\n",
       "      <td>71.2833</td>\n",
       "      <td>1</td>\n",
       "      <td>1</td>\n",
       "      <td>Mrs</td>\n",
       "      <td>3</td>\n",
       "      <td>(31.138, 512.329]</td>\n",
       "      <td>(39.688, 512.329]</td>\n",
       "      <td>(52.554, 512.329]</td>\n",
       "      <td>3</td>\n",
       "      <td>4</td>\n",
       "      <td>5</td>\n",
       "    </tr>\n",
       "    <tr>\n",
       "      <th>2</th>\n",
       "      <td>Miss. Laina Heikkinen</td>\n",
       "      <td>female</td>\n",
       "      <td>26.0</td>\n",
       "      <td>0</td>\n",
       "      <td>0</td>\n",
       "      <td>7.9250</td>\n",
       "      <td>3</td>\n",
       "      <td>1</td>\n",
       "      <td>Miss</td>\n",
       "      <td>1</td>\n",
       "      <td>(-0.001, 7.925]</td>\n",
       "      <td>(7.858, 10.5]</td>\n",
       "      <td>(7.775, 8.662]</td>\n",
       "      <td>0</td>\n",
       "      <td>1</td>\n",
       "      <td>1</td>\n",
       "    </tr>\n",
       "    <tr>\n",
       "      <th>3</th>\n",
       "      <td>Mrs. Jacques Heath (Lily May Peel) Futrelle</td>\n",
       "      <td>female</td>\n",
       "      <td>35.0</td>\n",
       "      <td>1</td>\n",
       "      <td>0</td>\n",
       "      <td>53.1000</td>\n",
       "      <td>1</td>\n",
       "      <td>1</td>\n",
       "      <td>Mrs</td>\n",
       "      <td>3</td>\n",
       "      <td>(31.138, 512.329]</td>\n",
       "      <td>(39.688, 512.329]</td>\n",
       "      <td>(52.554, 512.329]</td>\n",
       "      <td>3</td>\n",
       "      <td>4</td>\n",
       "      <td>5</td>\n",
       "    </tr>\n",
       "    <tr>\n",
       "      <th>4</th>\n",
       "      <td>Mr. William Henry Allen</td>\n",
       "      <td>male</td>\n",
       "      <td>35.0</td>\n",
       "      <td>0</td>\n",
       "      <td>0</td>\n",
       "      <td>8.0500</td>\n",
       "      <td>3</td>\n",
       "      <td>0</td>\n",
       "      <td>Mr</td>\n",
       "      <td>2</td>\n",
       "      <td>(7.925, 14.454]</td>\n",
       "      <td>(7.858, 10.5]</td>\n",
       "      <td>(7.775, 8.662]</td>\n",
       "      <td>1</td>\n",
       "      <td>1</td>\n",
       "      <td>1</td>\n",
       "    </tr>\n",
       "  </tbody>\n",
       "</table>\n",
       "</div>"
      ],
      "text/plain": [
       "                                                Name     Sex   Age  \\\n",
       "0                             Mr. Owen Harris Braund    male  22.0   \n",
       "1  Mrs. John Bradley (Florence Briggs Thayer) Cum...  female  38.0   \n",
       "2                              Miss. Laina Heikkinen  female  26.0   \n",
       "3        Mrs. Jacques Heath (Lily May Peel) Futrelle  female  35.0   \n",
       "4                            Mr. William Henry Allen    male  35.0   \n",
       "\n",
       "   Siblings/Spouses Aboard  Parents/Children Aboard     Fare Pclass  Survived  \\\n",
       "0                        1                        0   7.2500      3         0   \n",
       "1                        1                        0  71.2833      1         1   \n",
       "2                        0                        0   7.9250      3         1   \n",
       "3                        1                        0  53.1000      1         1   \n",
       "4                        0                        0   8.0500      3         0   \n",
       "\n",
       "  title1 title2          farebin_4          farebin_5          farebin_6  \\\n",
       "0     Mr      2    (-0.001, 7.925]    (-0.001, 7.858]    (-0.001, 7.775]   \n",
       "1    Mrs      3  (31.138, 512.329]  (39.688, 512.329]  (52.554, 512.329]   \n",
       "2   Miss      1    (-0.001, 7.925]      (7.858, 10.5]     (7.775, 8.662]   \n",
       "3    Mrs      3  (31.138, 512.329]  (39.688, 512.329]  (52.554, 512.329]   \n",
       "4     Mr      2    (7.925, 14.454]      (7.858, 10.5]     (7.775, 8.662]   \n",
       "\n",
       "   fare_code_bin_4  fare_code_bin_5  fare_code_bin_6  \n",
       "0                0                0                0  \n",
       "1                3                4                5  \n",
       "2                0                1                1  \n",
       "3                3                4                5  \n",
       "4                1                1                1  "
      ]
     },
     "execution_count": 20,
     "metadata": {},
     "output_type": "execute_result"
    }
   ],
   "source": [
    "data.head()"
   ]
  },
  {
   "cell_type": "markdown",
   "metadata": {},
   "source": [
    "## 3.Build the logistic regression model"
   ]
  },
  {
   "cell_type": "markdown",
   "metadata": {},
   "source": [
    "建立X特徵值組合以建構模型(於三種不同票價區間)。"
   ]
  },
  {
   "cell_type": "code",
   "execution_count": 41,
   "metadata": {},
   "outputs": [],
   "source": [
    "from sklearn.preprocessing import LabelEncoder\n",
    "enc = LabelEncoder()\n",
    "data['Sex'] = enc.fit_transform(data['Sex'])"
   ]
  },
  {
   "cell_type": "code",
   "execution_count": 42,
   "metadata": {},
   "outputs": [],
   "source": [
    "X_4 = data.drop(labels=['Name','title1','Pclass','farebin_4','farebin_5','farebin_6','Survived','fare_code_bin_5','fare_code_bin_6','Fare'],axis = 1)\n",
    "X_5 = data.drop(labels=['Name','title1','farebin_4','Pclass','farebin_5','farebin_6','Survived','fare_code_bin_4','fare_code_bin_6','Fare'],axis = 1)\n",
    "X_6 = data.drop(labels=['Name','title1','farebin_4','Pclass','farebin_5','farebin_6','Survived','fare_code_bin_4','fare_code_bin_5','Fare'],axis = 1)"
   ]
  },
  {
   "cell_type": "markdown",
   "metadata": {},
   "source": [
    "真實存活資料設為y。"
   ]
  },
  {
   "cell_type": "code",
   "execution_count": 43,
   "metadata": {},
   "outputs": [],
   "source": [
    "y = data['Survived']"
   ]
  },
  {
   "cell_type": "markdown",
   "metadata": {},
   "source": [
    "使用train_test_split將資料拆分為75%訓練集資料與25%測試集資料，並使用sklearn的LogisticRegression、BaggingClassifier、GradientBoostingClassifier、RandomForestClassifier建構模型。"
   ]
  },
  {
   "cell_type": "code",
   "execution_count": 44,
   "metadata": {},
   "outputs": [],
   "source": [
    "X_train_4, X_test_4, y_train_4, y_test_4 = train_test_split(X_4, y, test_size=0.25, random_state=1)\n",
    "clf_4 = LogisticRegression(random_state=0).fit(X_train_4,y_train_4)"
   ]
  },
  {
   "cell_type": "code",
   "execution_count": 79,
   "metadata": {},
   "outputs": [],
   "source": [
    "from sklearn.preprocessing import StandardScaler\n",
    "scaler = StandardScaler()\n",
    "X_train_4 = scaler.fit_transform(X_train_4)\n",
    "X_test_4 = scaler.transform(X_test_4)"
   ]
  },
  {
   "cell_type": "markdown",
   "metadata": {},
   "source": [
    "## 4.predict the data and the accuracy"
   ]
  },
  {
   "cell_type": "markdown",
   "metadata": {},
   "source": [
    "LogisticRegression，accuracy score大約為79%(正確預測機率)。"
   ]
  },
  {
   "cell_type": "code",
   "execution_count": 80,
   "metadata": {},
   "outputs": [
    {
     "name": "stderr",
     "output_type": "stream",
     "text": [
      "C:\\ProgramData\\Anaconda3\\lib\\site-packages\\sklearn\\base.py:450: UserWarning: X does not have valid feature names, but LogisticRegression was fitted with feature names\n",
      "  warnings.warn(\n"
     ]
    },
    {
     "data": {
      "text/plain": [
       "<Figure size 1200x800 with 0 Axes>"
      ]
     },
     "metadata": {},
     "output_type": "display_data"
    },
    {
     "data": {
      "image/png": "[encoded data removed]",
      "text/plain": [
       "<Figure size 640x480 with 2 Axes>"
      ]
     },
     "metadata": {},
     "output_type": "display_data"
    }
   ],
   "source": [
    "y_predict_4 = clf_4.predict(X_test_4)\n",
    "cm = confusion_matrix(y_test_4,y_predict_4)\n",
    "disp = ConfusionMatrixDisplay(confusion_matrix=cm,display_labels=clf_4.classes_)\n",
    "plt.figure(figsize=(12,8))\n",
    "disp.plot()\n",
    "plt.show()"
   ]
  },
  {
   "cell_type": "code",
   "execution_count": 81,
   "metadata": {},
   "outputs": [
    {
     "data": {
      "text/plain": [
       "0.7252252252252253"
      ]
     },
     "execution_count": 81,
     "metadata": {},
     "output_type": "execute_result"
    }
   ],
   "source": [
    "accuracy_score(y_test_4,y_predict_4)"
   ]
  },
  {
   "cell_type": "markdown",
   "metadata": {},
   "source": [
    "BaggingClassifier，accuracy score大約為81%(正確預測機率)。"
   ]
  },
  {
   "cell_type": "code",
   "execution_count": 82,
   "metadata": {},
   "outputs": [],
   "source": [
    "from sklearn.ensemble import BaggingClassifier\n",
    "clf_4_bag = BaggingClassifier().fit(X_train_4,y_train_4)"
   ]
  },
  {
   "cell_type": "code",
   "execution_count": 83,
   "metadata": {},
   "outputs": [
    {
     "data": {
      "text/plain": [
       "0.8108108108108109"
      ]
     },
     "execution_count": 83,
     "metadata": {},
     "output_type": "execute_result"
    }
   ],
   "source": [
    "clf_4_bag.score(X_test_4, y_test_4)"
   ]
  },
  {
   "cell_type": "markdown",
   "metadata": {},
   "source": [
    "GradientBoostingClassifier，accuracy score大約為82.4%(正確預測機率)。"
   ]
  },
  {
   "cell_type": "code",
   "execution_count": 86,
   "metadata": {},
   "outputs": [
    {
     "data": {
      "text/plain": [
       "0.8243243243243243"
      ]
     },
     "execution_count": 86,
     "metadata": {},
     "output_type": "execute_result"
    }
   ],
   "source": [
    "from sklearn.ensemble import GradientBoostingClassifier\n",
    "clf_4_boo = GradientBoostingClassifier(n_estimators=100, learning_rate=1.0,max_depth=1, random_state=0).fit(X_train_4,y_train_4)\n",
    "clf_4_boo.score(X_test_4, y_test_4)"
   ]
  },
  {
   "cell_type": "markdown",
   "metadata": {},
   "source": [
    "RandomForestClassifier，accuracy score大約為82.4%(正確預測機率)。"
   ]
  },
  {
   "cell_type": "code",
   "execution_count": 98,
   "metadata": {},
   "outputs": [
    {
     "data": {
      "text/plain": [
       "0.8243243243243243"
      ]
     },
     "execution_count": 98,
     "metadata": {},
     "output_type": "execute_result"
    }
   ],
   "source": [
    "from sklearn.ensemble import RandomForestClassifier\n",
    "clf_4_ran = RandomForestClassifier(max_depth=5, random_state=0 ).fit(X_train_4,y_train_4)\n",
    "clf_4_ran.score(X_test_4, y_test_4)"
   ]
  },
  {
   "cell_type": "code",
   "execution_count": null,
   "metadata": {},
   "outputs": [],
   "source": []
  }
 ],
 "metadata": {
  "kernelspec": {
   "display_name": "Python 3 (ipykernel)",
   "language": "python",
   "name": "python3"
  },
  "language_info": {
   "codemirror_mode": {
    "name": "ipython",
    "version": 3
   },
   "file_extension": ".py",
   "mimetype": "text/x-python",
   "name": "python",
   "nbconvert_exporter": "python",
   "pygments_lexer": "ipython3",
   "version": "3.8.12"
  }
 },
 "nbformat": 4,
 "nbformat_minor": 4
}
